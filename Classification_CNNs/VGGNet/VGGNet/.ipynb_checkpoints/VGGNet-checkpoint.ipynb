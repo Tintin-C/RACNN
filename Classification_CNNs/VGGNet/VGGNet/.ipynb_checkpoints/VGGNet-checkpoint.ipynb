{
 "cells": [
  {
   "cell_type": "code",
   "execution_count": null,
   "metadata": {
    "collapsed": true
   },
   "outputs": [],
   "source": [
    "caffe_root = '/path-to-your-caffe-root/'  # this file should be run from {caffe_root}/examples (otherwise change this line)\n",
    "import sys\n",
    "import os\n",
    "sys.path.insert(0, caffe_root + 'python')\n",
    "import caffe\n",
    "import matplotlib.pyplot as plt\n",
    "import numpy as np\n",
    "from pylab import *\n",
    "from IPython.display import clear_output\n",
    "%matplotlib notebook\n",
    "\n",
    "os.chdir(caffe_root)\n",
    "caffe.set_device(0)\n",
    "caffe.set_mode_gpu()\n",
    "\n",
    "solver_file = 'examples/RACNN/Classification_CNNs/VGGNet/VGGNet_solver.prototxt'\n",
    "alexnet_weights = caffe_root + 'models/bvlc_vggnet/bvlc_vggnet.caffemodel'\n",
    "\n",
    "solver = caffe.get_solver(solver_file)\n",
    "solver.net.copy_from(alexnet_weights)\n",
    "\n",
    "\n",
    "N = 1000000\n",
    "disp_interval = 100\n",
    "loss = [0 for i in range(N)]\n",
    "sum_loss = 0\n",
    "mean_loss = list()\n",
    "_, ax1 = plt.subplots()\n",
    "plt.ion()\n",
    "plt.show()\n",
    "\n",
    "for it in range(N):\n",
    "    solver.step(1) \n",
    "    loss[it] = solver.net.blobs['loss'].data.copy()\n",
    "\n",
    "    if it % disp_interval == 0 or it + 1 == N:\n",
    "        print '%3d) loss = %s' % (it, loss[it])   \n",
    "    \n",
    "    if it % 5000 == 0:\n",
    "        clear_output()\n",
    "        \n",
    "    sum_loss = sum_loss + loss[it]\n",
    "    \n",
    "    if (it+1) % 50 == 0:\n",
    "        mean_loss.append(sum_loss / 50.0)\n",
    "        sum_loss = 0\n",
    "    \n",
    "    if (it+1) % 5000 == 0:\n",
    "        lines = ax1.plot(arange((it+1)/50), mean_loss,'r')\n",
    "        ax1.set_xlabel('iteration') \n",
    "        ax1.set_ylabel('train_loss')\n",
    "        ax1.set_title('Loss: {:.2f}'.format(mean_loss[-1]))\n",
    "        try:\n",
    "            plt.pause(0.1)\n",
    "        except Exception:\n",
    "            pass\n",
    "        try:\n",
    "            ax.lines.remove(lines[0])\n",
    "            plt.show()\n",
    "        except Exception as e:\n",
    "            pass"
   ]
  }
 ],
 "metadata": {
  "anaconda-cloud": {},
  "kernelspec": {
   "display_name": "Python [default]",
   "language": "python",
   "name": "python2"
  },
  "language_info": {
   "codemirror_mode": {
    "name": "ipython",
    "version": 2
   },
   "file_extension": ".py",
   "mimetype": "text/x-python",
   "name": "python",
   "nbconvert_exporter": "python",
   "pygments_lexer": "ipython2",
   "version": "2.7.12"
  }
 },
 "nbformat": 4,
 "nbformat_minor": 0
}
